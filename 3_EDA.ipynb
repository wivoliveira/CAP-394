{
 "cells": [
  {
   "cell_type": "markdown",
   "metadata": {},
   "source": [
    "<img src=\"./images/header.png\">\n",
    "\n",
    "***"
   ]
  },
  {
   "cell_type": "markdown",
   "metadata": {},
   "source": [
    " # <center> Long-term differences in cloud cover of satellite observations across the Brazilian Amazon Rainforest</center>\n",
    "<center> Willian Vieira de Oliveira </center>\n",
    "\n",
    "<div style=\"text-align: right\"> [ Part 3 - Exploratory Data Analysis ] </div>"
   ]
  },
  {
   "cell_type": "markdown",
   "metadata": {},
   "source": [
    "### SUMMARY\n",
    "\n",
    "1. [**About**](./1_Project.ipynb#About)\n",
    "    \n",
    "1. [**The Data**](./1_Project.ipynb#TheData)\n",
    "    1. [Raw data](./1_Project.ipynb#RawData)\n",
    "    1. [Processed data](./1_Project.ipynb#ProcessedData)\n",
    "    1. [Additional data](./1_Project.ipynb#AdditionalData)\n",
    "    \n",
    "1. [**Questions about the data**](./1_Project.ipynb#Questions)\n",
    "\n",
    "1. [**Basic processing of the data**](./2_Basic_processing.ipynb#BasicProc)\n",
    "\n",
    "1. [**Statistics**](./2_Basic_processing.ipynb#Stats)\n",
    "\n",
    "1. [**Exploratory Data Analysis**](#EDA)\n",
    "\n",
    "1. [**Results**](./4_Results_and_Conclusion.ipynb#Results)\n",
    "\n",
    "1. [**Conclusion**](./4_Results_and_Conclusion.ipynb#Conclusion)\n",
    "***"
   ]
  },
  {
   "cell_type": "markdown",
   "metadata": {},
   "source": [
    "<a id='EDA'></a>\n",
    "## 6. Exploratory Data Analysis\n",
    "\n",
    "To be concluded..."
   ]
  },
  {
   "cell_type": "code",
   "execution_count": null,
   "metadata": {},
   "outputs": [],
   "source": []
  },
  {
   "cell_type": "markdown",
   "metadata": {},
   "source": [
    "[<div style=\"text-align: left\"> **<<Previous notebook** </div>](./2_Basic_processing.ipynb)\n",
    "\n",
    "[<div style=\"text-align: right\"> **Next notebook >>** </div>](./4_Results_and_Conclusion.ipynb)"
   ]
  },
  {
   "cell_type": "markdown",
   "metadata": {},
   "source": [
    "***\n",
    "## References\n",
    "\n",
    "[1] Rene Beuchle , Hugh D. Eva , Hans-Jürgen Stibig , Catherine Bodart , Andreas Brink , Philippe Mayaux , Desiree Johansson , Frederic Achard & Alan Belward (2011) A satellite data set for tropical forest area change assessment, **International Journal of Remote Sensing**, 32:22, 7009-7031, DOI: 10.1080/01431161.2011.611186\n",
    "\n",
    "[2] Sano E E, Ferreira L G, Asner G P et al., 2007. Spatial and temporal probabilities of obtaining cloud-free Landsat\n",
    "images over the Brazilian tropical savanna. **International Journal of Remote Sensing**, 28(12): 2739–2752.\n",
    "\n",
    "[3] Lima, T.A., Beuchle, R., Langner, A., Grecchi, R.C., Griess, V.C., & Achard, F. (2019). Comparing Sentinel-2 MSI and Landsat 8 OLI Imagery for Monitoring Selective Logging in the Brazilian Amazon. **Remote Sensing**, 11, 961.\n",
    "\n",
    "[4] Young O.R., Onoda M. (2017) **Satellite Earth Observations in Environmental Problem-Solving**. In: Onoda M., Young O. (eds) Satellite Earth Observations and Their Impact on Society and Policy. Springer, Singapore, DOI: 10.1080/01431161.2011.611186"
   ]
  }
 ],
 "metadata": {
  "kernelspec": {
   "display_name": "Python 3",
   "language": "python",
   "name": "python3"
  },
  "language_info": {
   "codemirror_mode": {
    "name": "ipython",
    "version": 3
   },
   "file_extension": ".py",
   "mimetype": "text/x-python",
   "name": "python",
   "nbconvert_exporter": "python",
   "pygments_lexer": "ipython3",
   "version": "3.7.3"
  }
 },
 "nbformat": 4,
 "nbformat_minor": 2
}
